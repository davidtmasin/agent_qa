{
  "nbformat": 4,
  "nbformat_minor": 0,
  "metadata": {
    "colab": {
      "provenance": []
    },
    "kernelspec": {
      "name": "python3",
      "display_name": "Python 3"
    },
    "language_info": {
      "name": "python"
    }
  },
  "cells": [
    {
      "cell_type": "code",
      "source": [
        "# Instalar Framework ADK de agentes do Google ################################################\n",
        "!pip install -q google-adk"
      ],
      "metadata": {
        "collapsed": true,
        "id": "GN0QpTGYGmh0",
        "colab": {
          "base_uri": "https://localhost:8080/"
        },
        "outputId": "9924f5c8-dd0e-46bc-af01-1af71a6593d6"
      },
      "execution_count": 1,
      "outputs": [
        {
          "output_type": "stream",
          "name": "stdout",
          "text": [
            "\u001b[2K   \u001b[90m━━━━━━━━━━━━━━━━━━━━━━━━━━━━━━━━━━━━━━━━\u001b[0m \u001b[32m1.2/1.2 MB\u001b[0m \u001b[31m13.6 MB/s\u001b[0m eta \u001b[36m0:00:00\u001b[0m\n",
            "\u001b[2K   \u001b[90m━━━━━━━━━━━━━━━━━━━━━━━━━━━━━━━━━━━━━━━━\u001b[0m \u001b[32m232.1/232.1 kB\u001b[0m \u001b[31m6.9 MB/s\u001b[0m eta \u001b[36m0:00:00\u001b[0m\n",
            "\u001b[2K   \u001b[90m━━━━━━━━━━━━━━━━━━━━━━━━━━━━━━━━━━━━━━━━\u001b[0m \u001b[32m95.2/95.2 kB\u001b[0m \u001b[31m4.6 MB/s\u001b[0m eta \u001b[36m0:00:00\u001b[0m\n",
            "\u001b[2K   \u001b[90m━━━━━━━━━━━━━━━━━━━━━━━━━━━━━━━━━━━━━━━━\u001b[0m \u001b[32m217.1/217.1 kB\u001b[0m \u001b[31m7.8 MB/s\u001b[0m eta \u001b[36m0:00:00\u001b[0m\n",
            "\u001b[2K   \u001b[90m━━━━━━━━━━━━━━━━━━━━━━━━━━━━━━━━━━━━━━━━\u001b[0m \u001b[32m334.1/334.1 kB\u001b[0m \u001b[31m10.6 MB/s\u001b[0m eta \u001b[36m0:00:00\u001b[0m\n",
            "\u001b[2K   \u001b[90m━━━━━━━━━━━━━━━━━━━━━━━━━━━━━━━━━━━━━━━━\u001b[0m \u001b[32m125.1/125.1 kB\u001b[0m \u001b[31m4.2 MB/s\u001b[0m eta \u001b[36m0:00:00\u001b[0m\n",
            "\u001b[2K   \u001b[90m━━━━━━━━━━━━━━━━━━━━━━━━━━━━━━━━━━━━━━━━\u001b[0m \u001b[32m65.8/65.8 kB\u001b[0m \u001b[31m2.3 MB/s\u001b[0m eta \u001b[36m0:00:00\u001b[0m\n",
            "\u001b[2K   \u001b[90m━━━━━━━━━━━━━━━━━━━━━━━━━━━━━━━━━━━━━━━━\u001b[0m \u001b[32m119.0/119.0 kB\u001b[0m \u001b[31m3.0 MB/s\u001b[0m eta \u001b[36m0:00:00\u001b[0m\n",
            "\u001b[2K   \u001b[90m━━━━━━━━━━━━━━━━━━━━━━━━━━━━━━━━━━━━━━━━\u001b[0m \u001b[32m194.9/194.9 kB\u001b[0m \u001b[31m5.6 MB/s\u001b[0m eta \u001b[36m0:00:00\u001b[0m\n",
            "\u001b[2K   \u001b[90m━━━━━━━━━━━━━━━━━━━━━━━━━━━━━━━━━━━━━━━━\u001b[0m \u001b[32m62.5/62.5 kB\u001b[0m \u001b[31m2.2 MB/s\u001b[0m eta \u001b[36m0:00:00\u001b[0m\n",
            "\u001b[2K   \u001b[90m━━━━━━━━━━━━━━━━━━━━━━━━━━━━━━━━━━━━━━━━\u001b[0m \u001b[32m103.3/103.3 kB\u001b[0m \u001b[31m4.4 MB/s\u001b[0m eta \u001b[36m0:00:00\u001b[0m\n",
            "\u001b[2K   \u001b[90m━━━━━━━━━━━━━━━━━━━━━━━━━━━━━━━━━━━━━━━━\u001b[0m \u001b[32m44.4/44.4 kB\u001b[0m \u001b[31m2.3 MB/s\u001b[0m eta \u001b[36m0:00:00\u001b[0m\n",
            "\u001b[2K   \u001b[90m━━━━━━━━━━━━━━━━━━━━━━━━━━━━━━━━━━━━━━━━\u001b[0m \u001b[32m72.0/72.0 kB\u001b[0m \u001b[31m4.3 MB/s\u001b[0m eta \u001b[36m0:00:00\u001b[0m\n",
            "\u001b[?25h"
          ]
        }
      ]
    },
    {
      "cell_type": "code",
      "source": [
        "import os\n",
        "from google.colab import userdata\n",
        "\n",
        "os.environ[\"GOOGLE_API_KEY\"] = userdata.get('GOOGLE_API_KEY')\n",
        "\n",
        "from google.adk.agents import Agent\n",
        "from google.adk.runners import Runner\n",
        "from google.adk.sessions import InMemorySessionService\n",
        "from google.adk.tools import google_search\n",
        "from google.genai import types  # Para criar conteúdos (Content e Part)\n",
        "\n",
        "import textwrap # Para formatar melhor a saída de texto\n",
        "from IPython.display import display, Markdown # Para exibir texto formatado no Colab\n",
        "import requests # Para fazer requisições HTTP\n",
        "import warnings\n",
        "\n",
        "warnings.filterwarnings(\"ignore\")"
      ],
      "metadata": {
        "id": "FbLzekWiGu9p"
      },
      "execution_count": 4,
      "outputs": []
    },
    {
      "cell_type": "code",
      "source": [
        "# Função auxiliar que envia uma mensagem para um agente via Runner e retorna a resposta final\n",
        "def call_agent(agent: Agent, message_text: str) -> str:\n",
        "    # Cria um serviço de sessão em memória\n",
        "    session_service = InMemorySessionService()\n",
        "    # Cria uma nova sessão (você pode personalizar os IDs conforme necessário)\n",
        "    session = session_service.create_session(app_name=agent.name, user_id=\"user1\", session_id=\"session1\")\n",
        "    # Cria um Runner para o agente\n",
        "    runner = Runner(agent=agent, app_name=agent.name, session_service=session_service)\n",
        "    # Cria o conteúdo da mensagem de entrada\n",
        "    content = types.Content(role=\"user\", parts=[types.Part(text=message_text)])\n",
        "\n",
        "    final_response = \"\"\n",
        "    # Itera assincronamente pelos eventos retornados durante a execução do agente\n",
        "    for event in runner.run(user_id=\"user1\", session_id=\"session1\", new_message=content):\n",
        "        if event.is_final_response():\n",
        "          for part in event.content.parts:\n",
        "            if part.text is not None:\n",
        "              final_response += part.text\n",
        "              final_response += \"\\n\"\n",
        "    return final_response"
      ],
      "metadata": {
        "id": "TM9XIkajHyn3"
      },
      "execution_count": 5,
      "outputs": []
    },
    {
      "cell_type": "code",
      "source": [
        "# Função auxiliar para exibir texto formatado em Markdown no Colab\n",
        "def to_markdown(text):\n",
        "  text = text.replace('•', '  *')\n",
        "  return Markdown(textwrap.indent(text, '> ', predicate=lambda _: True))"
      ],
      "metadata": {
        "id": "bQ06_tG-H1bt"
      },
      "execution_count": 6,
      "outputs": []
    },
    {
      "cell_type": "code",
      "source": [
        "##########################################\n",
        "# --- Agente 1: Mentor QA --- #\n",
        "##########################################\n",
        "def agente_mentor_qa(topico):\n",
        "\n",
        "    mentor_qa = Agent(\n",
        "        name=\"agente_mentor_qa\",\n",
        "        model=\"gemini-2.0-flash\",\n",
        "        instruction=\"\"\"\n",
        "        Você é um profissional especialista em qualidade de software e testes, com a capacidade\n",
        "        de mentorar quaisquer pessoas, tanto as que atuam nessa área (novatos ou veteranos) quanto àquelas que estão em transição.\n",
        "\n",
        "        Seus conhecimentos são baseados:\n",
        "\n",
        "        - Na literatura dos autores de maior relevância na área de Qualidade de Software e Testes como,\n",
        "        Roger Pressman, Robert C. Martin (Uncle Bob), Martin Fowler, Kent Beck, Elisabeth Hendrickson, Joseph Juran,\n",
        "        Philip Crosby, Edwards Deming, Armand Feigenbaum, Kaoru Ishikawa e Ian Sommerville.\n",
        "\n",
        "        - Em conteúdos dos materiais do ISTQB/BSTQB (Syllabus) para os exames de certificação como,\n",
        "        CTFL, CTAL e demais certificações relevantes para área de qualidade de software e testes.\n",
        "\n",
        "        - Em documentações oficiais de ferramentas utilizadas na realização dos testes, por exemplo, ferramentas de automação web (Cypress, Selenium, Playwright, Robotframework, etc),\n",
        "        ferramentas de teste de API (Postman, Insomnia, etc), ferramentas para gestão dos testes e dos bugs (Jira, TestLink, Bugzilla, Qase, etc), ferramentas de testes de performance (Jmeter, K6, Locust, etc), etc.\n",
        "\n",
        "        Adote a ferramenta do Google (google_search) a seu favor para ter acesso à informações relevantes sobre a área de qualidade de software e testes para te ajudar a engrandecer\n",
        "        sua base de conhecimento com informações valiosas e úteis.\n",
        "\n",
        "        Caso o usuário realize perguntas quem são totalmente fora do contexto do qual você é especialista, você tem a liberdade de interromper o assunto de forma totalmente cortês pois, seu foco não é esse, visto que você\n",
        "        é um especialista em qualidade de software e testes. Busque orientar o usuário sobre seu propósito para que ele evite questionar sobre questões fora do seu contexto.\n",
        "\n",
        "        \"\"\",\n",
        "        description=\"Agente que ajuda em qualquer assunto dentro da área de QA\",\n",
        "        tools=[google_search]\n",
        "    )\n",
        "\n",
        "    entrada_do_mentor_qa = f\"Tópico: {topico}\"\n",
        "\n",
        "    mentoria = call_agent(mentor_qa, entrada_do_mentor_qa)\n",
        "    return mentoria"
      ],
      "metadata": {
        "id": "Qd4vNMhZH1ZF"
      },
      "execution_count": 45,
      "outputs": []
    },
    {
      "cell_type": "code",
      "source": [
        "#####################################################\n",
        "# --- Agente 2: Especialista em Plano de Testes --- #\n",
        "#####################################################\n",
        "def agente_expert_plano_de_testes(contexto):\n",
        "  expert_plano_de_testes = Agent(\n",
        "        name=\"agente_expert_plano_de_testes\",\n",
        "        model=\"gemini-2.0-flash\",\n",
        "        instruction=\"\"\"\n",
        "        Você é um expert em QA que sabe bastante sobre como elaborar e estruturar planos de testes impecáveis para qualquer projeto de software.\n",
        "\n",
        "        Seja didático na sua explicação do plano de testes, principalmente para aqueles usuários que você notar que não apresentam tanta familiaridade na\n",
        "        elaboração de um plano de testes.\n",
        "\n",
        "        Você pode fornecer um modelo exemplo de um plano de testes baseado na proposta do software que está sendo avaliado para testes.\n",
        "\n",
        "        Se o usuário te fornecer um exemplo de plano de testes, avalie com atenção, forneça feedbacks construtivos e se for cabível, forneça dicas para melhorias.\n",
        "        \"\"\",\n",
        "        description=\"Agente que ajuda com Plano de Testes\",\n",
        "        tools=[google_search]\n",
        "  )\n",
        "  entrada_do_expert_plano_de_testes = f\"Contexto: {contexto}\"\n",
        "  plano = call_agent(expert_plano_de_testes, entrada_do_expert_plano_de_testes)\n",
        "  return plano"
      ],
      "metadata": {
        "id": "Q1Oew9YWOAYx"
      },
      "execution_count": 46,
      "outputs": []
    },
    {
      "cell_type": "code",
      "source": [
        "print(\"#################################################\")\n",
        "print(\"######## 🚀 Iniciando o Mestre QA... 🚀 ########\")\n",
        "print(\"#################################################\")\n",
        "print(\"\\n\")\n",
        "print(\"🤖 Olá, humano(a)! Eu meu chamo OneQway, sou seu mestre digital de QA.\\n\")\n",
        "print(\"🤖 Para te guiar da melhor forma possível, listo as seguintes opções:\")\n",
        "print(\"1️⃣ para aprender sobre qualquer assunto dentro da área de QA.\")\n",
        "print(\"2️⃣ para conversar especificamente da elaboração de um Plano de Testes.\")\n",
        "print(\"3️⃣ para conversar especificamente da elaboração dos Cenários e Casos de Teste.\")\n",
        "print(\"4️⃣ para conversar especificamente da elaboração do Relátorio de Bugs.\")\n",
        "print(\"5️⃣ para conversar especificamente da elobração do Resultado dos Testes.\")\n",
        "\n",
        "opcao_valida = False\n",
        "\n",
        "while not opcao_valida:  # Enquanto a opção NÃO for válida...\n",
        "    opcao = input(\"\\n🤖 Agora me forneça uma opção válida: \")\n",
        "\n",
        "    # MENTOR QA ################################################\n",
        "    if opcao == \"1\":\n",
        "      opcao_valida = True  # Agora a opção é válida, podemos sair do while\n",
        "      print(\"\\n🚀 Legal! Vamos aprender sobre QA!\")\n",
        "      topico = input(\"\\n🤖 O que você gostaria de aprender hoje dentro do universo QA❓\\n\")\n",
        "\n",
        "      if not topico:\n",
        "          print(\"\\n🤖 Preciso que me informe o que você gostaria de aprender hoje❗\\n\")\n",
        "          print(\"#################################################\")\n",
        "      else:\n",
        "          print(f\"\\n🤖 Maravilha! Um momento, estou verificando minha base de conhecimento sobre: {topico}.\\n\")\n",
        "          base_de_conhecimento = agente_mentor_qa(topico)\n",
        "          print(\"📝 Resultado Obtido da Base de Conhecimento QA\")\n",
        "          display(to_markdown(base_de_conhecimento))\n",
        "          print(\"\\n🤖 Caso deseje encerrar nossa conversa, basta digitar 'FIM'.\\n\")\n",
        "\n",
        "          while True:\n",
        "            topico = input(\"🤖 O que gostaria de aprender agora❓\\n\")\n",
        "            if topico.lower() == 'fim':\n",
        "              print('\\n🤖 Até a próxima, humano(a)❗')\n",
        "              break\n",
        "            else:\n",
        "              base_de_conhecimento = agente_mentor_qa(topico)\n",
        "              display(to_markdown(base_de_conhecimento))\n",
        "              print(\"\\n🤖 Caso deseje encerrar nossa conversa, basta digitar 'FIM'.\\n\")\n",
        "\n",
        "    # PLANO DE TESTES ################################################\n",
        "    elif opcao == \"2\":\n",
        "      print(\"\\n📝 Ótimo! Vamos falar sobre Plano de Testes.\")\n",
        "      opcao_valida = True\n",
        "      contexto = input(\"\\n🤖 O que você gostaria de saber sobre Plano de Testes❓\\n\")\n",
        "\n",
        "      if not contexto:\n",
        "          print(\"\\n🤖 Preciso que me informe o que você gostaria de saber sobre Plano de Testes❗\\n\")\n",
        "          print(\"#################################################\")\n",
        "\n",
        "      else:\n",
        "          print(f\"\\n🤖 Maravilha! Um momento, estou analisando seu contexto: {contexto}.\\n\")\n",
        "          contexto_plano = agente_expert_plano_de_testes(contexto)\n",
        "          print(\"📝 Resultado Obtido \")\n",
        "          display(to_markdown(contexto_plano))\n",
        "          print(\"\\n🤖 Caso deseje encerrar nossa conversa, basta digitar 'FIM'.\\n\")\n",
        "\n",
        "          while True:\n",
        "            contexto = input(\"🤖 O que gostaria de saber agora sobre Plano de Testes❓\\n\")\n",
        "            if contexto.lower() == 'fim':\n",
        "              print('\\n🤖 Até a próxima, humano(a)❗')\n",
        "              break\n",
        "            else:\n",
        "              contexto_plano = agente_expert_plano_de_testes(contexto)\n",
        "              display(to_markdown(contexto_plano))\n",
        "              print(\"\\n🤖 Caso deseje encerrar nossa conversa, basta digitar 'FIM'.\\n\")\n",
        "\n",
        "\n",
        "\n",
        "\n",
        "    # elif opcao == \"3\":\n",
        "    #   print(\"\\n✍️ Ótimo! Vamos falar sobre Cenários e Casos de Teste.\")\n",
        "    #   opcao_valida = True\n",
        "\n",
        "    # elif opcao == \"4\":\n",
        "    #   print(\"\\n🐞 Ótimo! Vamos falar sobre Relátorio de Bugs.\")\n",
        "    #   opcao_valida = True\n",
        "\n",
        "    # elif opcao == \"5\":\n",
        "    #   print(\"\\n📊 Ótimo! Vamos falar sobre Resultado dos Testes.\")\n",
        "    #   opcao_valida = True\n",
        "\n",
        "    else:\n",
        "      print(\"\\n🤔 Hmm, essa não é uma opção válida. Tente de novo!\")\n"
      ],
      "metadata": {
        "colab": {
          "base_uri": "https://localhost:8080/",
          "height": 1000
        },
        "id": "l334D8OlNIrk",
        "outputId": "3cf7476b-627d-48f5-93ca-d5a83d69fea1",
        "collapsed": true
      },
      "execution_count": 47,
      "outputs": [
        {
          "output_type": "stream",
          "name": "stdout",
          "text": [
            "#################################################\n",
            "######## 🚀 Iniciando o Mestre QA... 🚀 ########\n",
            "#################################################\n",
            "\n",
            "\n",
            "🤖 Olá, humano(a)! Eu meu chamo OneQway, sou seu mestre digital de QA.\n",
            "\n",
            "🤖 Para te guiar da melhor forma possível, listo as seguintes opções:\n",
            "1️⃣ para aprender sobre qualquer assunto dentro da área de QA.\n",
            "2️⃣ para conversar especificamente da elaboração de um Plano de Testes.\n",
            "3️⃣ para conversar especificamente da elaboração dos Cenários e Casos de Teste.\n",
            "4️⃣ para conversar especificamente da elaboração do Relátorio de Bugs.\n",
            "5️⃣ para conversar especificamente da elobração do Resultado dos Testes.\n",
            "\n",
            "🤖 Agora me forneça uma opção válida: 2\n",
            "\n",
            "📝 Ótimo! Vamos falar sobre Plano de Testes.\n",
            "\n",
            "🤖 O que você gostaria de saber sobre Plano de Testes❓\n",
            "Estou com um sistema chamado BugBank, app de um banco digital, que tem as funcionalidades de Login, Cadastro, Transferência e Extrato disponíveis e gostaria de elabora um plano de testes.\n",
            "\n",
            "🤖 Maravilha! Um momento, estou analisando seu contexto: Estou com um sistema chamado BugBank, app de um banco digital, que tem as funcionalidades de Login, Cadastro, Transferência e Extrato disponíveis e gostaria de elabora um plano de testes..\n",
            "\n",
            "📝 Resultado Obtido \n"
          ]
        },
        {
          "output_type": "display_data",
          "data": {
            "text/plain": [
              "<IPython.core.display.Markdown object>"
            ],
            "text/markdown": "> Olá! Elaborar um plano de testes bem estruturado é crucial para garantir a qualidade do BugBank. Vou te ajudar a criar um plano de testes abrangente, adequado às funcionalidades que você mencionou: Login, Cadastro, Transferência e Extrato.\n> \n> Primeiramente, vamos entender o que é um plano de testes e como ele se estrutura.\n> \n> **O que é um Plano de Testes?**\n> \n> Um plano de testes é um documento que descreve o escopo, abordagem, recursos e cronograma das atividades de teste. Ele serve como um guia para a equipe de testes, garantindo que todos estejam alinhados e que todos os aspectos críticos do sistema sejam adequadamente testados.\n> \n> **Estrutura de um Plano de Testes:**\n> \n> 1.  **Introdução:**\n> \n>     *   Objetivo do documento\n>     *   Escopo do teste\n>     *   Público-alvo\n> 2.  **Itens a serem testados:**\n> \n>     *   Funcionalidades específicas (Login, Cadastro, Transferência, Extrato)\n>     *   Interfaces\n>     *   Banco de dados\n>     *   Documentação\n>     *   Desempenho\n>     *   Segurança\n> 3.  **Funcionalidades a serem testadas:**\n> \n>     *   Descrição detalhada das funcionalidades que serão testadas.\n> 4.  **Funcionalidades não testadas:**\n> \n>     *   Justificativa para não testar determinadas funcionalidades.\n> 5.  **Abordagem de Teste:**\n> \n>     *   Tipos de teste (funcional, desempenho, segurança, usabilidade)\n>     *   Níveis de teste (unitário, integração, sistema, aceitação)\n>     *   Estratégias de teste (testes baseados em risco, testes exploratórios)\n> 6.  **Critérios de entrada e saída:**\n> \n>     *   Condições que devem ser atendidas para iniciar o teste (ambiente preparado, dados de teste prontos).\n>     *   Critérios para considerar o teste concluído (cobertura de testes, taxa de defeitos aceitável).\n> 7.  **Entregáveis:**\n> \n>     *   Documentos que serão produzidos durante o processo de teste (casos de teste, relatórios de defeitos, relatórios de progresso).\n> 8.  **Recursos:**\n> \n>     *   Equipe de teste\n>     *   Ambientes de teste\n>     *   Ferramentas de teste\n> 9.  **Cronograma:**\n> \n>     *   Prazos para cada atividade de teste\n>     *   Marcos importantes\n> 10. **Riscos e Contingências:**\n> \n>     *   Riscos que podem afetar o processo de teste (atrasos, indisponibilidade de recursos)\n>     *   Planos de contingência para mitigar esses riscos\n> \n> ### Modelo de Plano de Testes para o BugBank:\n> \n> **1. Introdução**\n> \n> *   **Objetivo:** Garantir a qualidade e a estabilidade do sistema BugBank, validando as funcionalidades de Login, Cadastro, Transferência e Extrato.\n> *   **Escopo:** Este plano abrange os testes funcionais, de desempenho, de segurança e de usabilidade das funcionalidades mencionadas.\n> *   **Público-alvo:** Gerentes de projeto, equipe de desenvolvimento, equipe de testes e stakeholders.\n> \n> **2. Itens a Serem Testados**\n> \n> *   **Funcionalidades:** Login, Cadastro, Transferência, Extrato.\n> *   **Interfaces:** Telas do aplicativo, APIs.\n> *   **Banco de dados:** Validação da integridade e consistência dos dados.\n> *   **Documentação:** Manuais do usuário, documentação técnica.\n> \n> **3. Funcionalidades a Serem Testadas**\n> \n> *   **Login:**\n>     *   **Descrição:** Verificar o acesso de usuários existentes com credenciais válidas e inválidas.\n>     *   **Casos de Teste:**\n>         *   Login com usuário e senha corretos.\n>         *   Login com senha incorreta.\n>         *   Login com usuário inexistente.\n>         *   Bloqueio de conta após várias tentativas de login inválidas.\n> *   **Cadastro:**\n>     *   **Descrição:** Validar a criação de novas contas de usuário.\n>     *   **Casos de Teste:**\n>         *   Cadastro com informações válidas.\n>         *   Cadastro com informações inválidas (campos vazios, formatos incorretos).\n>         *   Cadastro com CPF/e-mail já existentes.\n> *   **Transferência:**\n>     *   **Descrição:** Testar a transferência de valores entre contas.\n>     *   **Casos de Teste:**\n>         *   Transferência para contas válidas.\n>         *   Transferência para contas inválidas.\n>         *   Transferência com saldo insuficiente.\n>         *   Transferência de valores acima do limite permitido.\n> *   **Extrato:**\n>     *   **Descrição:** Verificar a exibição correta das movimentações financeiras.\n>     *   **Casos de Teste:**\n>         *   Visualização do extrato com lançamentos recentes.\n>         *   Visualização do extrato em diferentes períodos.\n>         *   Filtro de lançamentos por tipo (entrada, saída).\n> \n> **4. Funcionalidades Não Testadas**\n> \n> *   **Notificações Push:** Inicialmente, os testes de notificações push não serão priorizados, mas serão considerados em fases futuras.\n>     *   **Justificativa:** Foco nas funcionalidades principais para o lançamento inicial.\n> \n> **5. Abordagem de Teste**\n> \n> *   **Tipos de Teste:**\n>     *   **Funcional:** Validação das funcionalidades conforme especificado.\n>     *   **Desempenho:** Testes de carga para verificar a capacidade do sistema em lidar com múltiplos usuários simultâneos.\n>     *   **Segurança:** Testes de vulnerabilidade para identificar e corrigir falhas de segurança.\n>     *   **Usabilidade:** Avaliação da facilidade de uso do aplicativo.\n> *   **Níveis de Teste:**\n>     *   **Unitário:** Teste de componentes individuais do sistema.\n>     *   **Integração:** Teste da interação entre diferentes componentes.\n>     *   **Sistema:** Teste do sistema como um todo.\n> *   **Estratégias de Teste:**\n>     *   **Testes Baseados em Risco:** Priorização de testes com base nos riscos identificados.\n>     *   **Testes Exploratórios:** Testes manuais para descobrir comportamentos inesperados.\n> \n> **6. Critérios de Entrada e Saída**\n> \n> *   **Critérios de Entrada:**\n>     *   Ambiente de teste configurado e disponível.\n>     *   Dados de teste preparados.\n>     *   Documentação de requisitos revisada e aprovada.\n> *   **Critérios de Saída:**\n>     *   Todos os casos de teste executados.\n>     *   Taxa de defeitos abaixo do limite aceitável (ex: 5%).\n>     *   Relatório de testes finalizado e aprovado.\n> \n> **7. Entregáveis**\n> \n> *   Casos de Teste\n> *   Relatórios de Defeitos\n> *   Relatórios de Progresso\n> *   Relatório de Testes Final\n> \n> **8. Recursos**\n> \n> *   **Equipe de Teste:**\n>     *   Analistas de Testes\n>     *   Engenheiros de Automação\n> *   **Ambientes de Teste:**\n>     *   Ambiente de Desenvolvimento\n>     *   Ambiente de Teste (QA)\n>     *   Ambiente de Homologação\n> *   **Ferramentas de Teste:**\n>     *   Selenium (Automação)\n>     *   JMeter (Desempenho)\n>     *   SonarQube (Análise de Código)\n> \n> **9. Cronograma**\n> \n> | Atividade             | Prazo      | Responsável        |\n> | ---------------------- | ---------- | ------------------ |\n> | Planejamento           | 1 semana   | Analista de Testes |\n> | Criação de Casos      | 2 semanas  | Analista de Testes |\n> | Execução dos Testes   | 3 semanas  | Equipe de Testes   |\n> | Relatório Final        | 1 semana   | Analista de Testes |\n> \n> **10. Riscos e Contingências**\n> \n> *   **Riscos:**\n>     *   Atraso na entrega de novas versões do sistema.\n>     *   Indisponibilidade do ambiente de teste.\n>     *   Defeitos críticos não identificados durante os testes.\n> *   **Contingências:**\n>     *   Alocação de recursos extras para testes.\n>     *   Utilização de ambientes de teste alternativos.\n>     *   Revisão e priorização de casos de teste.\n> \n> ### Próximos Passos:\n> \n> 1.  **Detalhar os Casos de Teste:** Para cada funcionalidade, crie casos de teste específicos, detalhando os passos, dados de entrada e resultados esperados.\n> 2.  **Definir a Matriz de Rastreabilidade:** Associe cada caso de teste aos requisitos correspondentes para garantir a cobertura completa.\n> 3.  **Implementar a Automação:** Automatize os testes sempre que possível para aumentar a eficiência e a cobertura.\n> 4.  **Realizar Testes de Desempenho e Segurança:** Utilize ferramentas específicas para identificar gargalos e vulnerabilidades.\n> 5.  **Documentar Tudo:** Mantenha a documentação atualizada e acessível para todos os membros da equipe.\n> \n> Este modelo de plano de testes deve te dar um ótimo ponto de partida! Se precisar de ajuda para detalhar algum ponto específico ou tiver dúvidas, é só me perguntar.\n"
          },
          "metadata": {}
        },
        {
          "output_type": "stream",
          "name": "stdout",
          "text": [
            "\n",
            "🤖 Caso deseje encerrar nossa conversa, basta digitar 'FIM'.\n",
            "\n",
            "🤖 O que gostaria de saber agora sobre Plano de Testes❓\n",
            "fim\n",
            "\n",
            "🤖 Até a próxima, humano(a)❗\n"
          ]
        }
      ]
    }
  ]
}